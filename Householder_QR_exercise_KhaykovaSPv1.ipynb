{
 "cells": [
  {
   "cell_type": "code",
   "execution_count": 446,
   "metadata": {},
   "outputs": [],
   "source": [
    "import numpy as np\n",
    "import numpy.linalg as npl\n",
    "\n",
    "from numpy.testing import assert_allclose"
   ]
  },
  {
   "cell_type": "markdown",
   "metadata": {},
   "source": [
    "# Part I. Construct a Householder reflection of a vector."
   ]
  },
  {
   "cell_type": "markdown",
   "metadata": {},
   "source": [
    "Given a vector $\\mathbf{x}$, and a plane with a normal vector $\\mathbf{u}$, the Householder transformation reflects $\\mathbf{x}$ about the plane.\n",
    "\n",
    "The matrix of the Householder transformation is\n",
    "\n",
    "$$\n",
    "\\mathbf{H} = \\mathbf{1} - 2 \\mathbf{u} \\mathbf{u}^T\n",
    "$$\n",
    "\n",
    "Given two equal-length vectors $\\mathbf{x}$ and $\\mathbf{y}$, a rotation which brings $\\mathbf{x}$ to $\\mathbf{y}$ is a Householder transform with\n",
    "\n",
    "$$\n",
    "\\mathbf{u} = \\frac{\\mathbf{x} - \\mathbf{y}}{||\\mathbf{x} - \\mathbf{y}||}\n",
    "$$"
   ]
  },
  {
   "cell_type": "code",
   "execution_count": 447,
   "metadata": {},
   "outputs": [],
   "source": [
    "%matplotlib notebook\n",
    "def householder(vec):\n",
    "    \"\"\"Construct a Householder reflection to zero out 2nd and further components of a vector.\n",
    "\n",
    "    Parameters\n",
    "    ----------\n",
    "    vec : array-like of floats, shape (n,)\n",
    "        Input vector\n",
    "    \n",
    "    Returns\n",
    "    -------\n",
    "    outvec : array of floats, shape (n,)\n",
    "        Transformed vector, with ``outvec[1:]==0`` and ``|outvec| == |vec|``\n",
    "    H : array of floats, shape (n, n)\n",
    "        Orthogonal matrix of the Householder reflection\n",
    "    \"\"\"\n",
    "    vec = np.asarray(vec, dtype = float)\n",
    "    if vec.ndim != 1:\n",
    "        raise ValueError(\"vec.ndim = %s, expected 1\" % vec.ndim)\n",
    "    length = len(vec)\n",
    "    outvec = np.zeros_like(vec)\n",
    "    outvec[0] = npl.norm(vec)\n",
    "    \n",
    "    u = (vec - outvec) / npl.norm(vec - outvec)\n",
    "    H = np.eye(length) - 2 * np.outer(u, u)\n",
    "    \n",
    "    return outvec, H"
   ]
  },
  {
   "cell_type": "code",
   "execution_count": 448,
   "metadata": {},
   "outputs": [],
   "source": [
    "# Test (marked)\n",
    "\n",
    "v = np.array([1, 2, 3])\n",
    "v1, h = householder(v)\n",
    "\n",
    "assert_allclose(np.dot(h, v1), v)\n",
    "assert_allclose(np.dot(h, v), v1, atol = 1e-15)"
   ]
  },
  {
   "cell_type": "code",
   "execution_count": 449,
   "metadata": {},
   "outputs": [],
   "source": [
    "rndm = np.random.RandomState(1234)\n",
    "\n",
    "vec = rndm.uniform(size=7)\n",
    "v1, h = householder(vec)\n",
    "\n",
    "assert_allclose(np.dot(h, v1), vec)"
   ]
  },
  {
   "cell_type": "markdown",
   "metadata": {},
   "source": [
    "# Part II. Compute the QR decomposition of a matrix.\n",
    "\n",
    "Given a rectangular $m\\times n$ matrix $\\mathbf{A}$, construct a Householder reflector matrix $\\mathbf{H}_1$ which transforms the first column of $\\mathbf{A}$ (and call the result $\\mathbf{A}^{(1)}$)\n",
    "\n",
    "$$\n",
    "\\mathbf{H}_1 \\mathbf{A} =%\n",
    "\\begin{pmatrix}\n",
    "\\times & \\times & \\times & \\dots & \\times \\\\\n",
    "0      & \\times & \\times & \\dots & \\times \\\\\n",
    "0      & \\times & \\times & \\dots & \\times \\\\\n",
    "&& \\dots&& \\\\\n",
    "0      & \\times & \\times & \\dots & \\times \\\\\n",
    "\\end{pmatrix}%\n",
    "\\equiv \\mathbf{A}^{(1)}\\;.\n",
    "$$\n",
    "\n",
    "Now consider the lower-right submatrix of $\\mathbf{A}^{(1)}$, and construct a Householder reflector which annihilates the second column of $\\mathbf{A}$:\n",
    "\n",
    "$$\n",
    "\\mathbf{H}_2 \\mathbf{A}^{(1)} =%\n",
    "\\begin{pmatrix}\n",
    "\\times & \\times & \\times & \\dots & \\times \\\\\n",
    "0      & \\times & \\times & \\dots & \\times \\\\\n",
    "0      & 0      & \\times & \\dots & \\times \\\\\n",
    "&& \\dots&& \\\\\n",
    "0      & 0      & \\times & \\dots & \\times \\\\\n",
    "\\end{pmatrix}%\n",
    "\\equiv \\mathbf{A}^{(2)} \\;.\n",
    "$$\n",
    "\n",
    "Repeating the process $n-1$ times, we obtain\n",
    "\n",
    "$$\n",
    "\\mathbf{H}_{n-1} \\cdots \\mathbf{H}_2 \\mathbf{H}_1 \\mathbf{A} = \\mathbf{R} \\;,\n",
    "$$\n",
    "\n",
    "with $\\mathbf{R}$ an upper triangular matrix. Since each $\\mathbf{H}_k$ is orthogonal, so is their product. The inverse of an orthogonal matrix is orthogonal. Hence the process generates the $QR$ decomposition of $\\mathbf{A}$. "
   ]
  },
  {
   "cell_type": "code",
   "execution_count": 450,
   "metadata": {},
   "outputs": [],
   "source": [
    "def qr_decomp(a):\n",
    "    \"\"\"Compute the QR decomposition of a matrix.\n",
    "    \n",
    "    Parameters\n",
    "    ----------\n",
    "    a : ndarray, shape(m, n)\n",
    "        The input matrix\n",
    "    \n",
    "    Returns\n",
    "    -------\n",
    "    q : ndarray, shape(m, m)\n",
    "        The orthogonal matrix\n",
    "    r : ndarray, shape(m, n)\n",
    "        The upper triangular matrix\n",
    "        \n",
    "    Examples\n",
    "    --------\n",
    "    >>> a = np.random.random(size=(3, 5))\n",
    "    >>> q, r = qr_decomp(a)\n",
    "    >>> np.assert_allclose(np.dot(q, r), a)\n",
    "    \n",
    "    \"\"\"\n",
    "    a1 = np.array(a, copy=True, dtype=float)\n",
    "    m, n = a1.shape\n",
    "    \n",
    "    Q = np.eye(m)\n",
    "    R = np.copy(a1)\n",
    "    \n",
    "    for i in range(n):\n",
    "        temp, H = householder(R[i:, i])\n",
    "        H_i = np.eye(m)\n",
    "        H_i[i:, i:] = H\n",
    "        \n",
    "        R = H_i.dot(R)\n",
    "        Q = Q.dot(H_i.T)\n",
    "    return Q, R"
   ]
  },
  {
   "cell_type": "code",
   "execution_count": 451,
   "metadata": {},
   "outputs": [],
   "source": [
    "# Might want to turn this on for prettier printing: zeros instead of `1e-16` etc\n",
    "\n",
    "np.set_printoptions(suppress=True)"
   ]
  },
  {
   "cell_type": "code",
   "execution_count": 452,
   "metadata": {},
   "outputs": [],
   "source": [
    "# Test (marked)\n",
    "\n",
    "rndm = np.random.RandomState(1234)\n",
    "a = rndm.uniform(size = (5, 3))\n",
    "q, r = qr_decomp(a)\n",
    "\n",
    "# test that Q is indeed orthogonal\n",
    "assert_allclose(np.dot(q, q.T), np.eye(5), atol = 1e-10)\n",
    "\n",
    "# test the decomposition itself\n",
    "assert_allclose(np.dot(q, r), a)"
   ]
  },
  {
   "cell_type": "markdown",
   "metadata": {},
   "source": [
    "Now compare your decompositions to the library function (which actually wraps the corresponding LAPACK functions)"
   ]
  },
  {
   "cell_type": "code",
   "execution_count": 453,
   "metadata": {},
   "outputs": [],
   "source": [
    "from scipy.linalg import qr\n",
    "qq, rr = qr(a)\n",
    "\n",
    "assert_allclose(np.dot(qq, rr), a)"
   ]
  },
  {
   "cell_type": "code",
   "execution_count": 454,
   "metadata": {},
   "outputs": [
    {
     "name": "stdout",
     "output_type": "stream",
     "text": [
      "[[ 1.40152769  1.2514379   0.89523615]\n",
      " [ 0.          0.84158252  0.68447942]\n",
      " [-0.         -0.          0.5496046 ]\n",
      " [ 0.          0.         -0.        ]\n",
      " [ 0.         -0.          0.        ]]\n",
      "[[-1.40152769 -1.2514379  -0.89523615]\n",
      " [ 0.          0.84158252  0.68447942]\n",
      " [ 0.          0.         -0.5496046 ]\n",
      " [ 0.          0.          0.        ]\n",
      " [ 0.          0.          0.        ]]\n",
      "[[ 0.13665049  0.53601299 -0.09369752  0.7697136   0.30459557]\n",
      " [ 0.56035895  0.0935397  -0.53326881  0.01839528 -0.62652547]\n",
      " [ 0.19725922  0.65948912  0.60068463 -0.32384673 -0.24589462]\n",
      " [ 0.62498418 -0.50418303  0.52144688  0.28453698  0.04822969]\n",
      " [ 0.48765568  0.12171264 -0.27224305 -0.47049398  0.67223293]]\n",
      "[[-0.13665049  0.53601299  0.09369752  0.661619   -0.49749149]\n",
      " [-0.56035895  0.0935397   0.53326881 -0.52477245 -0.34276292]\n",
      " [-0.19725922  0.65948912 -0.60068463 -0.37879015  0.14784752]\n",
      " [-0.62498418 -0.50418303 -0.52144688  0.18967657 -0.21750907]\n",
      " [-0.48765568  0.12171264  0.27224305  0.32774225  0.75222783]]\n"
     ]
    }
   ],
   "source": [
    "print r\n",
    "print rr\n",
    "print q\n",
    "print qq"
   ]
  },
  {
   "cell_type": "markdown",
   "metadata": {},
   "source": [
    "Check if your `q` and `r` agree with `qq` and `rr`. Explain."
   ]
  },
  {
   "cell_type": "markdown",
   "metadata": {},
   "source": [
    "В общем случае QR разложение не единственно, то есть существуют несколько таких матриц Q и R (удовлетворяющих условиям) таких, что их произведение = a\n",
    "\n",
    "В нашем случае результат нашей функции отличается от результатов всторенной в матрице R только знаками, матрица Q в основном отличается также только ими, но в последних столбцах заметна разница в числах\n",
    "\n",
    "Различающиеся столбцы при QR разложении умножаются на 0 и роли не играют"
   ]
  },
  {
   "cell_type": "markdown",
   "metadata": {},
   "source": [
    "# Part III. Avoid forming Householder matrices explicitly."
   ]
  },
  {
   "cell_type": "markdown",
   "metadata": {},
   "source": [
    "Note the special structure of the Householder matrices: A reflector $\\mathbf{H}$ is completely specified by a reflection vector $\\mathbf{u}$. Also note that the computational cost of applying a reflector to a matrix strongly depends on the order of operations:\n",
    "\n",
    "$$\n",
    "\\left( \\mathbf{u} \\mathbf{u}^T \\right) \\mathbf{A}  \\qquad \\textrm{is } O(m^2 n)\\;,\n",
    "$$\n",
    "while\n",
    "$$\n",
    "\\mathbf{u} \\left( \\mathbf{u}^T \\mathbf{A} \\right) \\qquad \\textrm{is } O(mn)\n",
    "$$\n",
    "\n",
    "Thus, it seems to make sense to *avoid* forming the $\\mathbf{H}$ matrices. Instead, one stores the reflection vectors, $\\mathbf{u}$, themselves, and provides a way of multiplying an arbitrary matrix by $\\mathbf{Q}^T$, e.g., as a standalone function (or a class)."
   ]
  },
  {
   "cell_type": "markdown",
   "metadata": {},
   "source": [
    "Write a function which constructs the `QR` decomposition of a matrix *without ever forming the* $\\mathbf{H}$ matrices, and returns the $\\mathbf{R}$ matrix and reflection vectors. Write a second function, which uses the reflection vertices to multiply a matrix with $\\mathbf{Q}^T$. Make sure to include enough comments for a marker to follow your implementation, and add tests."
   ]
  },
  {
   "cell_type": "code",
   "execution_count": 481,
   "metadata": {},
   "outputs": [],
   "source": [
    "def qr_decompOptimizeRU(a):\n",
    "    \"\"\"Compute R matrix from QR and reflection vectors with lower explicity.\n",
    "    \n",
    "    Parameters\n",
    "    ----------\n",
    "    a : ndarray, shape(m, n)\n",
    "        The input matrix\n",
    "    \n",
    "    Returns\n",
    "    -------\n",
    "    r : ndarray, shape(m, n)\n",
    "        The upper triangular matrix\n",
    "    u : reflection vectors\n",
    "    \n",
    "    \"\"\"\n",
    "    a1 = np.array(a, copy=True, dtype=float)\n",
    "    m, n = a1.shape\n",
    "    \n",
    "    R = np.copy(a1)\n",
    "    U = []\n",
    "    for i in range(n):\n",
    "        vec = R[i:, i]\n",
    "        outvec = np.zeros_like(vec)\n",
    "        outvec[0] = npl.norm(vec)\n",
    "        \n",
    "        u = np.zeros((m, 1))\n",
    "        u[i:] = ((vec - outvec) / npl.norm(vec - outvec)).reshape((m - i, 1)) # find reflection vector\n",
    "        \n",
    "        R -= (2 * u).dot((u.T).dot(R)) # R_i = (I - 2 * u * u.T) * R_(i-1) = R_(i-1) - 2 * u * u.T * R(i-1)\n",
    "        U.append(u)\n",
    "    return R, U"
   ]
  },
  {
   "cell_type": "code",
   "execution_count": 482,
   "metadata": {},
   "outputs": [],
   "source": [
    "rndm = np.random.RandomState(1234)\n",
    "a = rndm.uniform(size = (5, 3))\n",
    "r_opt, u = qr_decompOptimizeRU(a)\n",
    "\n",
    "qq, rr = qr(a)\n",
    "\n",
    "assert_allclose(np.dot(qq, rr), a)\n",
    "assert_allclose(r, r_opt, atol = 1e-16)"
   ]
  },
  {
   "cell_type": "code",
   "execution_count": 476,
   "metadata": {},
   "outputs": [],
   "source": [
    "def multMatrixWith_Q_transp(A, U):\n",
    "    \"\"\"Multiply matrix A with Q_transp.\n",
    "    \n",
    "    Parameters\n",
    "    ----------\n",
    "    A : matrix to multiply, shape(n, m)\n",
    "    U : reflection vectors\n",
    "    \n",
    "    Returns\n",
    "    -------\n",
    "    newA : ndarray, shape(n, m)\n",
    "    \n",
    "    \"\"\"\n",
    "    newA = np.array(A, copy = True, dtype = float)\n",
    "    for u in U:\n",
    "        newA -= 2 * u.dot((u.T).dot(newA))\n",
    "    return newA"
   ]
  },
  {
   "cell_type": "code",
   "execution_count": 478,
   "metadata": {},
   "outputs": [],
   "source": [
    "newR = multMatrixWith_Q_transp(a, u) # because Q.T * A = R (because A = QR and Q - orthogonal)\n",
    "assert_allclose(newR, r_opt)\n",
    "\n",
    "\n",
    "''' Можем видеть, что тесты проходят --> все ОК'''"
   ]
  }
 ],
 "metadata": {
  "kernelspec": {
   "display_name": "Python 2",
   "language": "python",
   "name": "python2"
  },
  "language_info": {
   "codemirror_mode": {
    "name": "ipython",
    "version": 2
   },
   "file_extension": ".py",
   "mimetype": "text/x-python",
   "name": "python",
   "nbconvert_exporter": "python",
   "pygments_lexer": "ipython2",
   "version": "2.7.15"
  }
 },
 "nbformat": 4,
 "nbformat_minor": 2
}
